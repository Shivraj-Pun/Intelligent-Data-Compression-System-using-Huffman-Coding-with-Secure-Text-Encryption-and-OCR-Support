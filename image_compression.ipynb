{
 "cells": [
  {
   "cell_type": "code",
   "execution_count": 132,
   "id": "bf7a0a3b-6270-4b4d-b67c-56fdd1308d32",
   "metadata": {},
   "outputs": [],
   "source": [
    "from PIL import Image    #for loading the image\n",
    "import numpy as np\n",
    "from collections import Counter\n",
    "import pickle       # for saving the compressed image\n",
    "import heapq\n"
   ]
  },
  {
   "cell_type": "code",
   "execution_count": 133,
   "id": "26010767-cf04-4625-bc3a-abd3aed27ac6",
   "metadata": {},
   "outputs": [],
   "source": [
    "image = Image.open(\"images/sample_image3mb.png\").convert('L')\n",
    "# image = image.convert(\"L\") #grayscaling the image\n",
    "image.show() #to view the image"
   ]
  },
  {
   "cell_type": "code",
   "execution_count": 134,
   "id": "b07ae3fa-2606-43ed-98bc-be9e04473956",
   "metadata": {},
   "outputs": [],
   "source": [
    "image_data = np.array(image)"
   ]
  },
  {
   "cell_type": "code",
   "execution_count": 135,
   "id": "240ab4b4-3b76-482c-b259-5bb3457b6e8b",
   "metadata": {},
   "outputs": [
    {
     "data": {
      "text/plain": [
       "array([[11, 11, 11, ..., 11, 12, 11],\n",
       "       [11, 11, 11, ..., 12, 12, 12],\n",
       "       [11, 11, 11, ..., 12, 12, 12],\n",
       "       ...,\n",
       "       [32, 30, 30, ..., 31, 31, 31],\n",
       "       [29, 29, 29, ..., 35, 35, 35],\n",
       "       [29, 29, 29, ..., 33, 31, 31]], dtype=uint8)"
      ]
     },
     "execution_count": 135,
     "metadata": {},
     "output_type": "execute_result"
    }
   ],
   "source": [
    "image_data"
   ]
  },
  {
   "cell_type": "code",
   "execution_count": 136,
   "id": "26dee1fe-ffd7-46fe-8aa0-51f02ac88e7a",
   "metadata": {},
   "outputs": [],
   "source": [
    "original_shape = image_data.shape"
   ]
  },
  {
   "cell_type": "code",
   "execution_count": 137,
   "id": "0f634fa6-e4de-4fba-8bd5-923a877f3d70",
   "metadata": {},
   "outputs": [
    {
     "data": {
      "text/plain": [
       "(1080, 1920)"
      ]
     },
     "execution_count": 137,
     "metadata": {},
     "output_type": "execute_result"
    }
   ],
   "source": [
    "original_shape"
   ]
  },
  {
   "cell_type": "code",
   "execution_count": 138,
   "id": "8d911096-6c20-41fd-b5b0-633bda405a8c",
   "metadata": {},
   "outputs": [],
   "source": [
    "flattened_image_data = image_data.flatten()"
   ]
  },
  {
   "cell_type": "code",
   "execution_count": 139,
   "id": "497f4595-51f8-4916-b544-2e4df9e21469",
   "metadata": {},
   "outputs": [
    {
     "data": {
      "text/plain": [
       "array([11, 11, 11, ..., 33, 31, 31], dtype=uint8)"
      ]
     },
     "execution_count": 139,
     "metadata": {},
     "output_type": "execute_result"
    }
   ],
   "source": [
    "flattened_image_data"
   ]
  },
  {
   "cell_type": "code",
   "execution_count": 140,
   "id": "59870c2d-829c-4e25-a3bf-636b0543e7e6",
   "metadata": {},
   "outputs": [],
   "source": [
    "# image_data = np.array(image)\n",
    "# original_shape = image_data.shape\n",
    "# flattened_image_data  = image_data.flatten() # Flattening the 2D image to 1d for frequency analysis"
   ]
  },
  {
   "cell_type": "code",
   "execution_count": 141,
   "id": "d4e93231-2bc3-48d5-8628-495cb85464f6",
   "metadata": {},
   "outputs": [
    {
     "data": {
      "text/plain": [
       "(1080, 1920)"
      ]
     },
     "execution_count": 141,
     "metadata": {},
     "output_type": "execute_result"
    }
   ],
   "source": [
    "image_data.shape"
   ]
  },
  {
   "cell_type": "code",
   "execution_count": 142,
   "id": "b64f6678-d316-4e36-bdc2-9ea0117cee02",
   "metadata": {},
   "outputs": [
    {
     "data": {
      "text/plain": [
       "(2073600,)"
      ]
     },
     "execution_count": 142,
     "metadata": {},
     "output_type": "execute_result"
    }
   ],
   "source": [
    "flattened_image_data.shape"
   ]
  },
  {
   "cell_type": "code",
   "execution_count": 143,
   "id": "deafdf98-520e-4ba8-89d8-317b8fad349a",
   "metadata": {},
   "outputs": [],
   "source": [
    "frequency = Counter(flattened_image_data)"
   ]
  },
  {
   "cell_type": "code",
   "execution_count": 144,
   "id": "19316d04-b127-49b8-ba11-781f30068f65",
   "metadata": {},
   "outputs": [],
   "source": [
    "class Node:\n",
    "    def __init__(self, pixel, freq):\n",
    "        self.pixel = pixel\n",
    "        self.freq = freq\n",
    "        self.left = None\n",
    "        self.right = None\n",
    "        \n",
    "    def __lt__(self, other):  # needed for heapq\n",
    "        return self.freq < other.freq"
   ]
  },
  {
   "cell_type": "code",
   "execution_count": 145,
   "id": "64385163-1fd0-44b0-9ce8-ee9538c9d2ac",
   "metadata": {},
   "outputs": [
    {
     "data": {
      "text/plain": [
       "(2073600,)"
      ]
     },
     "execution_count": 145,
     "metadata": {},
     "output_type": "execute_result"
    }
   ],
   "source": [
    "flattened_image_data.shape"
   ]
  },
  {
   "cell_type": "code",
   "execution_count": null,
   "id": "0ed8ab43-c279-4dc0-89ca-b04bc7eb1936",
   "metadata": {},
   "outputs": [],
   "source": []
  },
  {
   "cell_type": "code",
   "execution_count": null,
   "id": "e2a0e1dd-bd85-4224-97da-5684b07e7214",
   "metadata": {},
   "outputs": [],
   "source": []
  },
  {
   "cell_type": "code",
   "execution_count": 146,
   "id": "5115be5c",
   "metadata": {},
   "outputs": [],
   "source": [
    "heap = [Node(pixel, freq) for pixel, freq in frequency.items()]\n",
    "# for node in heap:\n",
    "#     print(f\"Pixel: {node.pixel}, Frequency: {node.freq}\")"
   ]
  },
  {
   "cell_type": "code",
   "execution_count": 147,
   "id": "58d90818-7b88-4a35-85b3-041026161fe9",
   "metadata": {},
   "outputs": [],
   "source": [
    "heapq.heapify(heap)"
   ]
  },
  {
   "cell_type": "code",
   "execution_count": 148,
   "id": "30aea0db-4380-4f0b-bf03-20ddd12809ee",
   "metadata": {},
   "outputs": [],
   "source": [
    "# for node in heap:\n",
    "#     print(f\"Pixel: {node.pixel}, Frequency: {node.freq}\")"
   ]
  },
  {
   "cell_type": "code",
   "execution_count": 149,
   "id": "45da9da1-baef-40df-8c86-ccf87ea35861",
   "metadata": {},
   "outputs": [],
   "source": [
    "while len(heap) > 1:\n",
    "    node1 = heapq.heappop(heap)\n",
    "    node2 = heapq.heappop(heap)\n",
    "    merged = Node(None, node1.freq + node2.freq)\n",
    "    merged.left = node1\n",
    "    merged.right = node2\n",
    "    heapq.heappush(heap, merged)\n",
    "\n",
    "root = heap[0]"
   ]
  },
  {
   "cell_type": "code",
   "execution_count": 150,
   "id": "4944077c-dfcf-46dd-b616-b638b83f9379",
   "metadata": {},
   "outputs": [
    {
     "name": "stdout",
     "output_type": "stream",
     "text": [
      "Pixel: None, Frequency: 2073600\n",
      "<__main__.Node object at 0x0000020FEB616FC0>\n"
     ]
    }
   ],
   "source": [
    "for node in heap:\n",
    "    print(f\"Pixel: {node.pixel}, Frequency: {node.freq}\")\n",
    "print(root)"
   ]
  },
  {
   "cell_type": "code",
   "execution_count": 151,
   "id": "a3f0208a-6662-48d4-9d38-9f7af9ac1507",
   "metadata": {},
   "outputs": [],
   "source": [
    "def generate_codes(node, current_code=\"\", codes={}):\n",
    "    if node:\n",
    "        if node.pixel is not None:\n",
    "            codes[node.pixel] = current_code\n",
    "        generate_codes(node.left, current_code + \"0\", codes)\n",
    "        generate_codes(node.right, current_code + \"1\", codes)\n",
    "    return codes"
   ]
  },
  {
   "cell_type": "code",
   "execution_count": 152,
   "id": "db9ae217-1eca-46d4-aba7-c0bb56b2152d",
   "metadata": {},
   "outputs": [],
   "source": [
    "huffman_codes = generate_codes(root)"
   ]
  },
  {
   "cell_type": "code",
   "execution_count": 153,
   "id": "481eb6bb-08f5-464b-9001-6fae47890069",
   "metadata": {},
   "outputs": [],
   "source": [
    "compressed_data = ''.join([huffman_codes[p] for p in flattened_image_data])"
   ]
  },
  {
   "cell_type": "code",
   "execution_count": 154,
   "id": "0e0ef508-d0e5-4507-b067-90689c1d4fae",
   "metadata": {},
   "outputs": [],
   "source": [
    "def binary_string_to_bytes(binary_str):\n",
    "    # Pad binary string to be divisible by 8\n",
    "    padded_length = 8 - (len(binary_str) % 8)\n",
    "    binary_str += '0' * padded_length\n",
    "    \n",
    "    # Convert to bytes\n",
    "    byte_array = bytearray()\n",
    "    for i in range(0, len(binary_str), 8):\n",
    "        byte = binary_str[i:i+8]\n",
    "        byte_array.append(int(byte, 2))\n",
    "    \n",
    "    return byte_array, padded_length\n",
    "\n"
   ]
  },
  {
   "cell_type": "code",
   "execution_count": 155,
   "id": "04651289-c83e-496b-a588-dc80a0be2856",
   "metadata": {},
   "outputs": [],
   "source": [
    "# Convert and save with padding info\n",
    "byte_data, padding = binary_string_to_bytes(compressed_data)"
   ]
  },
  {
   "cell_type": "code",
   "execution_count": 156,
   "id": "6987a37b-bbfc-4e6c-90c8-360e9d7eb472",
   "metadata": {},
   "outputs": [],
   "source": [
    "with open(\"compressed_image.bin\", \"wb\") as f:\n",
    "    pickle.dump((huffman_codes, byte_data, padding, original_shape), f)"
   ]
  },
  {
   "cell_type": "code",
   "execution_count": null,
   "id": "0ba892bf-9886-461d-844d-69e22b05f635",
   "metadata": {},
   "outputs": [],
   "source": []
  }
 ],
 "metadata": {
  "kernelspec": {
   "display_name": "Python 3 (ipykernel)",
   "language": "python",
   "name": "python3"
  },
  "language_info": {
   "codemirror_mode": {
    "name": "ipython",
    "version": 3
   },
   "file_extension": ".py",
   "mimetype": "text/x-python",
   "name": "python",
   "nbconvert_exporter": "python",
   "pygments_lexer": "ipython3",
   "version": "3.12.6"
  }
 },
 "nbformat": 4,
 "nbformat_minor": 5
}
