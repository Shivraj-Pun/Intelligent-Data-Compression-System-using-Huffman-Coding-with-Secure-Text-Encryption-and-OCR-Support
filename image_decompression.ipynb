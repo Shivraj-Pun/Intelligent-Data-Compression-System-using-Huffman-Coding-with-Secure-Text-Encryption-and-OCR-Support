{
 "cells": [
  {
   "cell_type": "code",
   "execution_count": 41,
   "id": "7b82bc84-34d4-4311-999c-c22ee9e3eed5",
   "metadata": {},
   "outputs": [],
   "source": [
    "from PIL import Image\n",
    "import pickle\n",
    "import numpy as np"
   ]
  },
  {
   "cell_type": "code",
   "execution_count": 42,
   "id": "89b22e3f-8dac-42b1-b340-b59bcd0157b9",
   "metadata": {},
   "outputs": [],
   "source": [
    "# Step 1: Load compressed data\n",
    "with open(\"compressed_image.bin\", \"rb\") as f:\n",
    "    huffman_codes, byte_data, padding, original_shape= pickle.load(f)"
   ]
  },
  {
   "cell_type": "code",
   "execution_count": 43,
   "id": "c45eb425-1932-4e4d-b806-b848c044ace5",
   "metadata": {},
   "outputs": [],
   "source": [
    "# Step 2: Convert byte data back to binary string\n",
    "binary_str = ''.join(format(byte, '08b') for byte in byte_data)"
   ]
  },
  {
   "cell_type": "code",
   "execution_count": 44,
   "id": "4dbba700-93e7-439c-b4e3-0f02b9b98a2f",
   "metadata": {},
   "outputs": [],
   "source": [
    "# Step 3: Remove the padding\n",
    "binary_str = binary_str[:-padding] if padding != 0 else binary_str"
   ]
  },
  {
   "cell_type": "code",
   "execution_count": 45,
   "id": "44657237-56df-4b87-90ac-e3786cd78a2d",
   "metadata": {},
   "outputs": [],
   "source": [
    "# Step 4: Reverse the Huffman code dictionary\n",
    "reverse_codes = {v: k for k, v in huffman_codes.items()}"
   ]
  },
  {
   "cell_type": "code",
   "execution_count": 46,
   "id": "d692e656-604a-4263-9bd2-e09c614913e5",
   "metadata": {},
   "outputs": [],
   "source": [
    "\n",
    "# Step 5: Decode the binary string\n",
    "decoded_pixels = []\n",
    "code = ''\n",
    "for bit in binary_str:\n",
    "    code += bit\n",
    "    if code in reverse_codes:\n",
    "        decoded_pixels.append(reverse_codes[code])\n",
    "        code = ''"
   ]
  },
  {
   "cell_type": "code",
   "execution_count": 47,
   "id": "50bec81e-5494-4a55-9403-9eba0fe27035",
   "metadata": {},
   "outputs": [],
   "source": [
    "image_array = np.array(decoded_pixels, dtype=np.uint8).reshape((original_shape))"
   ]
  },
  {
   "cell_type": "code",
   "execution_count": 48,
   "id": "8d52ec60-4e43-43a1-abbc-4dae2839f5de",
   "metadata": {},
   "outputs": [],
   "source": [
    "# Step 7: Create image and save/show\n",
    "decompressed_image = Image.fromarray(image_array, mode='L')\n",
    "decompressed_image.save(\"decompressed.png\")\n",
    "decompressed_image.show()"
   ]
  },
  {
   "cell_type": "code",
   "execution_count": null,
   "id": "f1fd263f-8ad7-4b10-9726-165ea5767916",
   "metadata": {},
   "outputs": [],
   "source": []
  }
 ],
 "metadata": {
  "kernelspec": {
   "display_name": "Python 3 (ipykernel)",
   "language": "python",
   "name": "python3"
  },
  "language_info": {
   "codemirror_mode": {
    "name": "ipython",
    "version": 3
   },
   "file_extension": ".py",
   "mimetype": "text/x-python",
   "name": "python",
   "nbconvert_exporter": "python",
   "pygments_lexer": "ipython3",
   "version": "3.12.6"
  }
 },
 "nbformat": 4,
 "nbformat_minor": 5
}
